{
  "nbformat": 4,
  "nbformat_minor": 0,
  "metadata": {
    "colab": {
      "name": "TF_TimeSerise.ipynb",
      "provenance": [],
      "collapsed_sections": [],
      "include_colab_link": true
    },
    "kernelspec": {
      "name": "python3",
      "display_name": "Python 3"
    },
    "language_info": {
      "name": "python"
    },
    "accelerator": "GPU"
  },
  "cells": [
    {
      "cell_type": "markdown",
      "metadata": {
        "id": "view-in-github",
        "colab_type": "text"
      },
      "source": [
        "<a href=\"https://colab.research.google.com/github/farooqhasny/AGA8/blob/master/TF_TimeSerise.ipynb\" target=\"_parent\"><img src=\"https://colab.research.google.com/assets/colab-badge.svg\" alt=\"Open In Colab\"/></a>"
      ]
    },
    {
      "cell_type": "code",
      "metadata": {
        "id": "TANjQ86hdacv",
        "colab": {
          "base_uri": "https://localhost:8080/"
        },
        "outputId": "183ac08a-e9cd-4c7a-cb51-cd1e33196432"
      },
      "source": [
        "!pip install yfinance"
      ],
      "execution_count": null,
      "outputs": [
        {
          "output_type": "stream",
          "text": [
            "Collecting yfinance\n",
            "  Downloading https://files.pythonhosted.org/packages/a7/ee/315752b9ef281ba83c62aa7ec2e2074f85223da6e7e74efb4d3e11c0f510/yfinance-0.1.59.tar.gz\n",
            "Requirement already satisfied: pandas>=0.24 in /usr/local/lib/python3.7/dist-packages (from yfinance) (1.1.5)\n",
            "Requirement already satisfied: numpy>=1.15 in /usr/local/lib/python3.7/dist-packages (from yfinance) (1.19.5)\n",
            "Requirement already satisfied: requests>=2.20 in /usr/local/lib/python3.7/dist-packages (from yfinance) (2.23.0)\n",
            "Requirement already satisfied: multitasking>=0.0.7 in /usr/local/lib/python3.7/dist-packages (from yfinance) (0.0.9)\n",
            "Collecting lxml>=4.5.1\n",
            "\u001b[?25l  Downloading https://files.pythonhosted.org/packages/30/c0/d0526314971fc661b083ab135747dc68446a3022686da8c16d25fcf6ef07/lxml-4.6.3-cp37-cp37m-manylinux2014_x86_64.whl (6.3MB)\n",
            "\u001b[K     |████████████████████████████████| 6.3MB 35.7MB/s \n",
            "\u001b[?25hRequirement already satisfied: pytz>=2017.2 in /usr/local/lib/python3.7/dist-packages (from pandas>=0.24->yfinance) (2018.9)\n",
            "Requirement already satisfied: python-dateutil>=2.7.3 in /usr/local/lib/python3.7/dist-packages (from pandas>=0.24->yfinance) (2.8.1)\n",
            "Requirement already satisfied: certifi>=2017.4.17 in /usr/local/lib/python3.7/dist-packages (from requests>=2.20->yfinance) (2021.5.30)\n",
            "Requirement already satisfied: chardet<4,>=3.0.2 in /usr/local/lib/python3.7/dist-packages (from requests>=2.20->yfinance) (3.0.4)\n",
            "Requirement already satisfied: idna<3,>=2.5 in /usr/local/lib/python3.7/dist-packages (from requests>=2.20->yfinance) (2.10)\n",
            "Requirement already satisfied: urllib3!=1.25.0,!=1.25.1,<1.26,>=1.21.1 in /usr/local/lib/python3.7/dist-packages (from requests>=2.20->yfinance) (1.24.3)\n",
            "Requirement already satisfied: six>=1.5 in /usr/local/lib/python3.7/dist-packages (from python-dateutil>=2.7.3->pandas>=0.24->yfinance) (1.15.0)\n",
            "Building wheels for collected packages: yfinance\n",
            "  Building wheel for yfinance (setup.py) ... \u001b[?25l\u001b[?25hdone\n",
            "  Created wheel for yfinance: filename=yfinance-0.1.59-py2.py3-none-any.whl size=23455 sha256=626a0b06b99d0b8bd6b980108cb12022b771dd5a11f1d702b122dda4ca566fcb\n",
            "  Stored in directory: /root/.cache/pip/wheels/f8/2a/0f/4b5a86e1d52e451757eb6bc17fd899629f0925c777741b6d04\n",
            "Successfully built yfinance\n",
            "Installing collected packages: lxml, yfinance\n",
            "  Found existing installation: lxml 4.2.6\n",
            "    Uninstalling lxml-4.2.6:\n",
            "      Successfully uninstalled lxml-4.2.6\n",
            "Successfully installed lxml-4.6.3 yfinance-0.1.59\n"
          ],
          "name": "stdout"
        }
      ]
    },
    {
      "cell_type": "code",
      "metadata": {
        "id": "ttPrxt0EGEWR"
      },
      "source": [
        "#- Stock market Price prediction - using past 60 days stock price\n",
        "import math\n",
        "import pandas_datareader as web\n",
        "import numpy as np\n",
        "import pandas as pd\n",
        "import tensorflow as tf\n",
        "from sklearn.preprocessing import MinMaxScaler\n",
        "from keras.models import Sequential\n",
        "from keras.layers import Dense, LSTM\n",
        "import matplotlib.pyplot as plt\n",
        "# import yfinance as yf\n",
        "from google.colab import drive\n",
        "\n",
        "root_path = 'gdrive/My Drive/your_project_folder/'  #change dir to your project folder"
      ],
      "execution_count": null,
      "outputs": []
    },
    {
      "cell_type": "markdown",
      "metadata": {
        "id": "lbxPcIog40Vu"
      },
      "source": [
        "# New Section"
      ]
    },
    {
      "cell_type": "code",
      "metadata": {
        "colab": {
          "base_uri": "https://localhost:8080/"
        },
        "id": "YcojJT-eGT5f",
        "outputId": "977097f2-c52e-46fa-fe55-b912023c3e29"
      },
      "source": [
        "#Set Plot Style\n",
        "plt.style.use('fivethirtyeight')\n",
        "#Check Actions:\n",
        "test = \"STARTING TO ACQUIRE DATA FROM WEB\"\n",
        "print(test)\n",
        "#Fetch Data from Server:\n",
        "df = yf.download(tickers='AMZN', start='2021-06-01', end='2021-06-03', interval=\"1m\")\n",
        "# df = web.DataReader('CBA.AX', data_source='yahoo', start='2012-01-01', end='2019-12-17')\n",
        "print(df)\n",
        "compression_opts = dict(method='zip',archive_name='out.csv')\n",
        "df.to_csv('out.zip', index=False,compression=compression_opts)"
      ],
      "execution_count": null,
      "outputs": [
        {
          "output_type": "stream",
          "text": [
            "STARTING TO ACQUIRE DATA FROM WEB\n",
            "\r[*********************100%***********************]  1 of 1 completed\n",
            "                                  Open         High  ...    Adj Close  Volume\n",
            "Datetime                                             ...                     \n",
            "2021-06-01 09:30:00-04:00  3243.495117  3244.179932  ...  3244.179932   99620\n",
            "2021-06-01 09:31:00-04:00  3241.399902  3244.000000  ...  3241.989990   11192\n",
            "2021-06-01 09:32:00-04:00  3240.794922  3245.020020  ...  3239.899902   15200\n",
            "2021-06-01 09:33:00-04:00  3239.000000  3242.989990  ...  3242.989990   13669\n",
            "2021-06-01 09:34:00-04:00  3240.000000  3240.000000  ...  3239.886719    7047\n",
            "...                                ...          ...  ...          ...     ...\n",
            "2021-06-02 15:55:00-04:00  3230.729980  3231.159912  ...  3231.100098   10907\n",
            "2021-06-02 15:56:00-04:00  3231.129883  3232.610107  ...  3232.159912   14835\n",
            "2021-06-02 15:57:00-04:00  3231.840088  3232.360107  ...  3232.239990   15817\n",
            "2021-06-02 15:58:00-04:00  3232.219971  3234.000000  ...  3233.689941   18502\n",
            "2021-06-02 15:59:00-04:00  3234.000000  3235.000000  ...  3234.919922   28057\n",
            "\n",
            "[760 rows x 6 columns]\n"
          ],
          "name": "stdout"
        }
      ]
    },
    {
      "cell_type": "code",
      "metadata": {
        "colab": {
          "base_uri": "https://localhost:8080/"
        },
        "id": "wnI2IC4dEKPv",
        "outputId": "c0a11a99-ae17-4a00-8900-5da54e201783"
      },
      "source": [
        "from google.colab import drive\n",
        "drive.mount('/content/drive')"
      ],
      "execution_count": null,
      "outputs": [
        {
          "output_type": "stream",
          "text": [
            "Mounted at /content/drive\n"
          ],
          "name": "stdout"
        }
      ]
    },
    {
      "cell_type": "code",
      "metadata": {
        "id": "S_W0axBuGlHU"
      },
      "source": [
        "#Get the number of rows and columns in the data set:\n",
        "df.shape\n",
        "print(df.shape)\n",
        "plt.figure(figsize=(16,8))\n",
        "plt.title('Close Price History')\n",
        "plt.plot(df['Close'])\n",
        "plt.xlabel('Date', fontsize=18)\n",
        "plt.ylabel('Close Price USD ($)')\n",
        "#plt.show()"
      ],
      "execution_count": null,
      "outputs": []
    },
    {
      "cell_type": "code",
      "metadata": {
        "id": "CBYGa9crfHbf"
      },
      "source": [
        "#Create a new Dataframe - using only close columns:\n",
        "data = df.filter(['Close'])\n",
        "#Convert Dataframe to a numpy array\n",
        "dataset = data.values\n",
        "#Get the numbers of rows to train the model on:\n",
        "training_data_len = math.ceil(len(dataset)* .8)\n",
        "print(training_data_len)\n",
        "\n",
        "#Scale the data (this is advantegeous to input data in p.u.)\n",
        "scaler = MinMaxScaler(feature_range=(0,1))\n",
        "scaled_data = scaler.fit_transform(dataset)\n",
        "print(scaled_data)\n",
        "\n",
        "#Create a training set of data:\n",
        "train_data = scaled_data[0:training_data_len , :]\n",
        "x_train = []\n",
        "y_train = []\n",
        "\n",
        "for i in range(60, len(train_data)):\n",
        "    x_train.append(train_data[i-60:i, 0])\n",
        "    y_train.append(train_data[i, 0])\n",
        "    if i<=61:\n",
        "        print (x_train)\n",
        "        print (y_train)\n",
        "        print()\n",
        "        \n",
        "#Convert the x_train and y_train to numpy arrays\n",
        "x_train, y_train = np.array(x_train), np.array(y_train)\n",
        "#reshape the data:\n",
        "#x_train = np.reshape(x_train, (1543,60,1))\n",
        "x_train = np.reshape(x_train, (x_train.shape[0],x_train.shape[1],1))\n",
        "\n",
        "print(x_train.shape)\n",
        "model = tf.keras.Sequential()\n",
        "model.add(LSTM(50, return_sequences=True, input_shape=(x_train.shape[1],1)))\n",
        "model.add(LSTM(50, return_sequences=False))\n",
        "model.add(Dense(25))\n",
        "model.add(Dense(1))"
      ],
      "execution_count": null,
      "outputs": []
    },
    {
      "cell_type": "code",
      "metadata": {
        "id": "8DPVPtk2hNpm"
      },
      "source": [
        "model.compile(optimizer='adam', loss='mean_squared_error')"
      ],
      "execution_count": null,
      "outputs": []
    },
    {
      "cell_type": "code",
      "metadata": {
        "id": "ZkkRqaWcqqqQ"
      },
      "source": [
        "model.fit(x_train, y_train, batch_size=1, epochs=1)"
      ],
      "execution_count": null,
      "outputs": []
    },
    {
      "cell_type": "code",
      "metadata": {
        "id": "94641K_HrkXO"
      },
      "source": [
        "test_data=scaled_data[training_data_len - 60:,:]\n",
        "x_test = []\n",
        "y_test = dataset[training_data_len:, :]\n",
        "for i in range(60, len(test_data)):\n",
        "  x_test.append(test_data[i-60:i,0])"
      ],
      "execution_count": null,
      "outputs": []
    },
    {
      "cell_type": "code",
      "metadata": {
        "id": "v2fUjcXLsv5P"
      },
      "source": [
        "x_test = np.array(x_test)"
      ],
      "execution_count": null,
      "outputs": []
    },
    {
      "cell_type": "code",
      "metadata": {
        "id": "8Ne5-DYls_pa"
      },
      "source": [
        "x_test = np.reshape(x_test, (x_test.shape[0],x_test.shape[1],1))"
      ],
      "execution_count": null,
      "outputs": []
    },
    {
      "cell_type": "code",
      "metadata": {
        "id": "vrO17JPgELok"
      },
      "source": [
        "#Get the models predicted price values:\n",
        "predictions = model.predict(x_test)\n",
        "predictions = scaler.inverse_transform(predictions)"
      ],
      "execution_count": null,
      "outputs": []
    },
    {
      "cell_type": "code",
      "metadata": {
        "id": "EwVq5UJ8Evco"
      },
      "source": [
        "#GEt the root mean squared root (RMSE)\n",
        "rmse = np.sqrt(np.mean(predictions - y_test)**2)\n",
        "print (rmse)"
      ],
      "execution_count": null,
      "outputs": []
    },
    {
      "cell_type": "code",
      "metadata": {
        "id": "wrdh1AhhFY0p"
      },
      "source": [
        "#Plot the Data\n",
        "train = data[:training_data_len]\n",
        "valid = data[training_data_len:]\n",
        "valid['predictions'] = predictions\n",
        "# print(predictions)\n",
        "#Visualize data\n",
        "plt.figure(figsize=(16,8))\n",
        "plt.title('Model')\n",
        "plt.xlabel('Date',fontsize=18)\n",
        "plt.ylabel('Close Predictions', fontsize=18)\n",
        "plt.plot(train['Close'])\n",
        "\n",
        "# plt.plot(valid[['Close', 'predictions']])\n",
        "plt.plot(valid['predictions'])\n",
        "plt.legend(['Train','Val','predictions'], loc='lower right')\n",
        "plt.show()"
      ],
      "execution_count": null,
      "outputs": []
    }
  ]
}